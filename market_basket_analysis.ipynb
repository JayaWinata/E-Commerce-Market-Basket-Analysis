{
 "cells": [
  {
   "cell_type": "markdown",
   "metadata": {},
   "source": [
    "# Market Basket Analysis"
   ]
  },
  {
   "cell_type": "markdown",
   "metadata": {},
   "source": [
    "This is my market basket analysis project on a pizza store dataset. This project identifies hidden trends in customer purchasing behavior by analyzing what products are frequently bought together in a pizza store's transaction. The goal of market basket analysis is to identify frequently occurring itemsets or combinations of products to understand customer buying habits.\n",
    "\n",
    "You can get the dataset through this link"
   ]
  },
  {
   "cell_type": "code",
   "execution_count": null,
   "metadata": {},
   "outputs": [],
   "source": []
  }
 ],
 "metadata": {
  "kernelspec": {
   "display_name": "Python 3",
   "language": "python",
   "name": "python3"
  },
  "language_info": {
   "name": "python",
   "version": "3.10.11"
  }
 },
 "nbformat": 4,
 "nbformat_minor": 2
}
